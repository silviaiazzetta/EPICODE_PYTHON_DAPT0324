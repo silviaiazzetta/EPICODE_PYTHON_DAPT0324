{
 "cells": [
  {
   "cell_type": "code",
   "execution_count": 127,
   "id": "e891b2e7-28c5-408a-b043-f2a0e9cbb20f",
   "metadata": {},
   "outputs": [],
   "source": [
    "import pandas as pd"
   ]
  },
  {
   "cell_type": "code",
   "execution_count": 129,
   "id": "e9fbc408-008c-413f-91e3-22362a430280",
   "metadata": {},
   "outputs": [],
   "source": [
    "dati_covid = pd.read_csv(\"C:/Users/Iazzetta/Downloads/owid-covid-data.csv\")"
   ]
  },
  {
   "cell_type": "code",
   "execution_count": null,
   "id": "49687693-5fc8-4814-8075-1b62999c9f3d",
   "metadata": {},
   "outputs": [],
   "source": []
  },
  {
   "cell_type": "code",
   "execution_count": 462,
   "id": "077594ba-813e-4f3d-bc92-8c862999f2c1",
   "metadata": {},
   "outputs": [],
   "source": [
    "# 1. Si richiede di verificare le dimensioni del dataset e i relativi metadati."
   ]
  },
  {
   "cell_type": "code",
   "execution_count": 464,
   "id": "fee21376-2259-435f-8680-089c786f5bb0",
   "metadata": {},
   "outputs": [
    {
     "data": {
      "text/plain": [
       "(429435, 67)"
      ]
     },
     "execution_count": 464,
     "metadata": {},
     "output_type": "execute_result"
    }
   ],
   "source": [
    "dati_covid.shape"
   ]
  },
  {
   "cell_type": "code",
   "execution_count": 131,
   "id": "832581c9-46d8-4828-87d5-c96b6573e7c4",
   "metadata": {},
   "outputs": [
    {
     "data": {
      "text/html": [
       "<div>\n",
       "<style scoped>\n",
       "    .dataframe tbody tr th:only-of-type {\n",
       "        vertical-align: middle;\n",
       "    }\n",
       "\n",
       "    .dataframe tbody tr th {\n",
       "        vertical-align: top;\n",
       "    }\n",
       "\n",
       "    .dataframe thead th {\n",
       "        text-align: right;\n",
       "    }\n",
       "</style>\n",
       "<table border=\"1\" class=\"dataframe\">\n",
       "  <thead>\n",
       "    <tr style=\"text-align: right;\">\n",
       "      <th></th>\n",
       "      <th>iso_code</th>\n",
       "      <th>continent</th>\n",
       "      <th>location</th>\n",
       "      <th>date</th>\n",
       "      <th>total_cases</th>\n",
       "      <th>new_cases</th>\n",
       "      <th>new_cases_smoothed</th>\n",
       "      <th>total_deaths</th>\n",
       "      <th>new_deaths</th>\n",
       "      <th>new_deaths_smoothed</th>\n",
       "      <th>...</th>\n",
       "      <th>male_smokers</th>\n",
       "      <th>handwashing_facilities</th>\n",
       "      <th>hospital_beds_per_thousand</th>\n",
       "      <th>life_expectancy</th>\n",
       "      <th>human_development_index</th>\n",
       "      <th>population</th>\n",
       "      <th>excess_mortality_cumulative_absolute</th>\n",
       "      <th>excess_mortality_cumulative</th>\n",
       "      <th>excess_mortality</th>\n",
       "      <th>excess_mortality_cumulative_per_million</th>\n",
       "    </tr>\n",
       "  </thead>\n",
       "  <tbody>\n",
       "    <tr>\n",
       "      <th>0</th>\n",
       "      <td>AFG</td>\n",
       "      <td>Asia</td>\n",
       "      <td>Afghanistan</td>\n",
       "      <td>2020-01-05</td>\n",
       "      <td>0.0</td>\n",
       "      <td>0.0</td>\n",
       "      <td>NaN</td>\n",
       "      <td>0.0</td>\n",
       "      <td>0.0</td>\n",
       "      <td>NaN</td>\n",
       "      <td>...</td>\n",
       "      <td>NaN</td>\n",
       "      <td>37.746</td>\n",
       "      <td>0.5</td>\n",
       "      <td>64.83</td>\n",
       "      <td>0.511</td>\n",
       "      <td>41128772</td>\n",
       "      <td>NaN</td>\n",
       "      <td>NaN</td>\n",
       "      <td>NaN</td>\n",
       "      <td>NaN</td>\n",
       "    </tr>\n",
       "    <tr>\n",
       "      <th>1</th>\n",
       "      <td>AFG</td>\n",
       "      <td>Asia</td>\n",
       "      <td>Afghanistan</td>\n",
       "      <td>2020-01-06</td>\n",
       "      <td>0.0</td>\n",
       "      <td>0.0</td>\n",
       "      <td>NaN</td>\n",
       "      <td>0.0</td>\n",
       "      <td>0.0</td>\n",
       "      <td>NaN</td>\n",
       "      <td>...</td>\n",
       "      <td>NaN</td>\n",
       "      <td>37.746</td>\n",
       "      <td>0.5</td>\n",
       "      <td>64.83</td>\n",
       "      <td>0.511</td>\n",
       "      <td>41128772</td>\n",
       "      <td>NaN</td>\n",
       "      <td>NaN</td>\n",
       "      <td>NaN</td>\n",
       "      <td>NaN</td>\n",
       "    </tr>\n",
       "    <tr>\n",
       "      <th>2</th>\n",
       "      <td>AFG</td>\n",
       "      <td>Asia</td>\n",
       "      <td>Afghanistan</td>\n",
       "      <td>2020-01-07</td>\n",
       "      <td>0.0</td>\n",
       "      <td>0.0</td>\n",
       "      <td>NaN</td>\n",
       "      <td>0.0</td>\n",
       "      <td>0.0</td>\n",
       "      <td>NaN</td>\n",
       "      <td>...</td>\n",
       "      <td>NaN</td>\n",
       "      <td>37.746</td>\n",
       "      <td>0.5</td>\n",
       "      <td>64.83</td>\n",
       "      <td>0.511</td>\n",
       "      <td>41128772</td>\n",
       "      <td>NaN</td>\n",
       "      <td>NaN</td>\n",
       "      <td>NaN</td>\n",
       "      <td>NaN</td>\n",
       "    </tr>\n",
       "    <tr>\n",
       "      <th>3</th>\n",
       "      <td>AFG</td>\n",
       "      <td>Asia</td>\n",
       "      <td>Afghanistan</td>\n",
       "      <td>2020-01-08</td>\n",
       "      <td>0.0</td>\n",
       "      <td>0.0</td>\n",
       "      <td>NaN</td>\n",
       "      <td>0.0</td>\n",
       "      <td>0.0</td>\n",
       "      <td>NaN</td>\n",
       "      <td>...</td>\n",
       "      <td>NaN</td>\n",
       "      <td>37.746</td>\n",
       "      <td>0.5</td>\n",
       "      <td>64.83</td>\n",
       "      <td>0.511</td>\n",
       "      <td>41128772</td>\n",
       "      <td>NaN</td>\n",
       "      <td>NaN</td>\n",
       "      <td>NaN</td>\n",
       "      <td>NaN</td>\n",
       "    </tr>\n",
       "    <tr>\n",
       "      <th>4</th>\n",
       "      <td>AFG</td>\n",
       "      <td>Asia</td>\n",
       "      <td>Afghanistan</td>\n",
       "      <td>2020-01-09</td>\n",
       "      <td>0.0</td>\n",
       "      <td>0.0</td>\n",
       "      <td>NaN</td>\n",
       "      <td>0.0</td>\n",
       "      <td>0.0</td>\n",
       "      <td>NaN</td>\n",
       "      <td>...</td>\n",
       "      <td>NaN</td>\n",
       "      <td>37.746</td>\n",
       "      <td>0.5</td>\n",
       "      <td>64.83</td>\n",
       "      <td>0.511</td>\n",
       "      <td>41128772</td>\n",
       "      <td>NaN</td>\n",
       "      <td>NaN</td>\n",
       "      <td>NaN</td>\n",
       "      <td>NaN</td>\n",
       "    </tr>\n",
       "  </tbody>\n",
       "</table>\n",
       "<p>5 rows × 67 columns</p>\n",
       "</div>"
      ],
      "text/plain": [
       "  iso_code continent     location        date  total_cases  new_cases  \\\n",
       "0      AFG      Asia  Afghanistan  2020-01-05          0.0        0.0   \n",
       "1      AFG      Asia  Afghanistan  2020-01-06          0.0        0.0   \n",
       "2      AFG      Asia  Afghanistan  2020-01-07          0.0        0.0   \n",
       "3      AFG      Asia  Afghanistan  2020-01-08          0.0        0.0   \n",
       "4      AFG      Asia  Afghanistan  2020-01-09          0.0        0.0   \n",
       "\n",
       "   new_cases_smoothed  total_deaths  new_deaths  new_deaths_smoothed  ...  \\\n",
       "0                 NaN           0.0         0.0                  NaN  ...   \n",
       "1                 NaN           0.0         0.0                  NaN  ...   \n",
       "2                 NaN           0.0         0.0                  NaN  ...   \n",
       "3                 NaN           0.0         0.0                  NaN  ...   \n",
       "4                 NaN           0.0         0.0                  NaN  ...   \n",
       "\n",
       "   male_smokers  handwashing_facilities  hospital_beds_per_thousand  \\\n",
       "0           NaN                  37.746                         0.5   \n",
       "1           NaN                  37.746                         0.5   \n",
       "2           NaN                  37.746                         0.5   \n",
       "3           NaN                  37.746                         0.5   \n",
       "4           NaN                  37.746                         0.5   \n",
       "\n",
       "   life_expectancy  human_development_index  population  \\\n",
       "0            64.83                    0.511    41128772   \n",
       "1            64.83                    0.511    41128772   \n",
       "2            64.83                    0.511    41128772   \n",
       "3            64.83                    0.511    41128772   \n",
       "4            64.83                    0.511    41128772   \n",
       "\n",
       "   excess_mortality_cumulative_absolute  excess_mortality_cumulative  \\\n",
       "0                                   NaN                          NaN   \n",
       "1                                   NaN                          NaN   \n",
       "2                                   NaN                          NaN   \n",
       "3                                   NaN                          NaN   \n",
       "4                                   NaN                          NaN   \n",
       "\n",
       "   excess_mortality  excess_mortality_cumulative_per_million  \n",
       "0               NaN                                      NaN  \n",
       "1               NaN                                      NaN  \n",
       "2               NaN                                      NaN  \n",
       "3               NaN                                      NaN  \n",
       "4               NaN                                      NaN  \n",
       "\n",
       "[5 rows x 67 columns]"
      ]
     },
     "execution_count": 131,
     "metadata": {},
     "output_type": "execute_result"
    }
   ],
   "source": [
    "dati_covid.head()"
   ]
  },
  {
   "cell_type": "code",
   "execution_count": 132,
   "id": "80192b9e-735b-40e0-813f-ab792d414c61",
   "metadata": {},
   "outputs": [
    {
     "data": {
      "text/html": [
       "<div>\n",
       "<style scoped>\n",
       "    .dataframe tbody tr th:only-of-type {\n",
       "        vertical-align: middle;\n",
       "    }\n",
       "\n",
       "    .dataframe tbody tr th {\n",
       "        vertical-align: top;\n",
       "    }\n",
       "\n",
       "    .dataframe thead th {\n",
       "        text-align: right;\n",
       "    }\n",
       "</style>\n",
       "<table border=\"1\" class=\"dataframe\">\n",
       "  <thead>\n",
       "    <tr style=\"text-align: right;\">\n",
       "      <th></th>\n",
       "      <th>iso_code</th>\n",
       "      <th>continent</th>\n",
       "      <th>location</th>\n",
       "      <th>date</th>\n",
       "      <th>total_cases</th>\n",
       "      <th>new_cases</th>\n",
       "      <th>new_cases_smoothed</th>\n",
       "      <th>total_deaths</th>\n",
       "      <th>new_deaths</th>\n",
       "      <th>new_deaths_smoothed</th>\n",
       "      <th>...</th>\n",
       "      <th>male_smokers</th>\n",
       "      <th>handwashing_facilities</th>\n",
       "      <th>hospital_beds_per_thousand</th>\n",
       "      <th>life_expectancy</th>\n",
       "      <th>human_development_index</th>\n",
       "      <th>population</th>\n",
       "      <th>excess_mortality_cumulative_absolute</th>\n",
       "      <th>excess_mortality_cumulative</th>\n",
       "      <th>excess_mortality</th>\n",
       "      <th>excess_mortality_cumulative_per_million</th>\n",
       "    </tr>\n",
       "  </thead>\n",
       "  <tbody>\n",
       "    <tr>\n",
       "      <th>429430</th>\n",
       "      <td>ZWE</td>\n",
       "      <td>Africa</td>\n",
       "      <td>Zimbabwe</td>\n",
       "      <td>2024-07-31</td>\n",
       "      <td>266386.0</td>\n",
       "      <td>0.0</td>\n",
       "      <td>0.0</td>\n",
       "      <td>5740.0</td>\n",
       "      <td>0.0</td>\n",
       "      <td>0.0</td>\n",
       "      <td>...</td>\n",
       "      <td>30.7</td>\n",
       "      <td>36.791</td>\n",
       "      <td>1.7</td>\n",
       "      <td>61.49</td>\n",
       "      <td>0.571</td>\n",
       "      <td>16320539</td>\n",
       "      <td>NaN</td>\n",
       "      <td>NaN</td>\n",
       "      <td>NaN</td>\n",
       "      <td>NaN</td>\n",
       "    </tr>\n",
       "    <tr>\n",
       "      <th>429431</th>\n",
       "      <td>ZWE</td>\n",
       "      <td>Africa</td>\n",
       "      <td>Zimbabwe</td>\n",
       "      <td>2024-08-01</td>\n",
       "      <td>266386.0</td>\n",
       "      <td>0.0</td>\n",
       "      <td>0.0</td>\n",
       "      <td>5740.0</td>\n",
       "      <td>0.0</td>\n",
       "      <td>0.0</td>\n",
       "      <td>...</td>\n",
       "      <td>30.7</td>\n",
       "      <td>36.791</td>\n",
       "      <td>1.7</td>\n",
       "      <td>61.49</td>\n",
       "      <td>0.571</td>\n",
       "      <td>16320539</td>\n",
       "      <td>NaN</td>\n",
       "      <td>NaN</td>\n",
       "      <td>NaN</td>\n",
       "      <td>NaN</td>\n",
       "    </tr>\n",
       "    <tr>\n",
       "      <th>429432</th>\n",
       "      <td>ZWE</td>\n",
       "      <td>Africa</td>\n",
       "      <td>Zimbabwe</td>\n",
       "      <td>2024-08-02</td>\n",
       "      <td>266386.0</td>\n",
       "      <td>0.0</td>\n",
       "      <td>0.0</td>\n",
       "      <td>5740.0</td>\n",
       "      <td>0.0</td>\n",
       "      <td>0.0</td>\n",
       "      <td>...</td>\n",
       "      <td>30.7</td>\n",
       "      <td>36.791</td>\n",
       "      <td>1.7</td>\n",
       "      <td>61.49</td>\n",
       "      <td>0.571</td>\n",
       "      <td>16320539</td>\n",
       "      <td>NaN</td>\n",
       "      <td>NaN</td>\n",
       "      <td>NaN</td>\n",
       "      <td>NaN</td>\n",
       "    </tr>\n",
       "    <tr>\n",
       "      <th>429433</th>\n",
       "      <td>ZWE</td>\n",
       "      <td>Africa</td>\n",
       "      <td>Zimbabwe</td>\n",
       "      <td>2024-08-03</td>\n",
       "      <td>266386.0</td>\n",
       "      <td>0.0</td>\n",
       "      <td>0.0</td>\n",
       "      <td>5740.0</td>\n",
       "      <td>0.0</td>\n",
       "      <td>0.0</td>\n",
       "      <td>...</td>\n",
       "      <td>30.7</td>\n",
       "      <td>36.791</td>\n",
       "      <td>1.7</td>\n",
       "      <td>61.49</td>\n",
       "      <td>0.571</td>\n",
       "      <td>16320539</td>\n",
       "      <td>NaN</td>\n",
       "      <td>NaN</td>\n",
       "      <td>NaN</td>\n",
       "      <td>NaN</td>\n",
       "    </tr>\n",
       "    <tr>\n",
       "      <th>429434</th>\n",
       "      <td>ZWE</td>\n",
       "      <td>Africa</td>\n",
       "      <td>Zimbabwe</td>\n",
       "      <td>2024-08-04</td>\n",
       "      <td>266386.0</td>\n",
       "      <td>0.0</td>\n",
       "      <td>0.0</td>\n",
       "      <td>5740.0</td>\n",
       "      <td>0.0</td>\n",
       "      <td>0.0</td>\n",
       "      <td>...</td>\n",
       "      <td>30.7</td>\n",
       "      <td>36.791</td>\n",
       "      <td>1.7</td>\n",
       "      <td>61.49</td>\n",
       "      <td>0.571</td>\n",
       "      <td>16320539</td>\n",
       "      <td>NaN</td>\n",
       "      <td>NaN</td>\n",
       "      <td>NaN</td>\n",
       "      <td>NaN</td>\n",
       "    </tr>\n",
       "  </tbody>\n",
       "</table>\n",
       "<p>5 rows × 67 columns</p>\n",
       "</div>"
      ],
      "text/plain": [
       "       iso_code continent  location        date  total_cases  new_cases  \\\n",
       "429430      ZWE    Africa  Zimbabwe  2024-07-31     266386.0        0.0   \n",
       "429431      ZWE    Africa  Zimbabwe  2024-08-01     266386.0        0.0   \n",
       "429432      ZWE    Africa  Zimbabwe  2024-08-02     266386.0        0.0   \n",
       "429433      ZWE    Africa  Zimbabwe  2024-08-03     266386.0        0.0   \n",
       "429434      ZWE    Africa  Zimbabwe  2024-08-04     266386.0        0.0   \n",
       "\n",
       "        new_cases_smoothed  total_deaths  new_deaths  new_deaths_smoothed  \\\n",
       "429430                 0.0        5740.0         0.0                  0.0   \n",
       "429431                 0.0        5740.0         0.0                  0.0   \n",
       "429432                 0.0        5740.0         0.0                  0.0   \n",
       "429433                 0.0        5740.0         0.0                  0.0   \n",
       "429434                 0.0        5740.0         0.0                  0.0   \n",
       "\n",
       "        ...  male_smokers  handwashing_facilities  hospital_beds_per_thousand  \\\n",
       "429430  ...          30.7                  36.791                         1.7   \n",
       "429431  ...          30.7                  36.791                         1.7   \n",
       "429432  ...          30.7                  36.791                         1.7   \n",
       "429433  ...          30.7                  36.791                         1.7   \n",
       "429434  ...          30.7                  36.791                         1.7   \n",
       "\n",
       "        life_expectancy  human_development_index  population  \\\n",
       "429430            61.49                    0.571    16320539   \n",
       "429431            61.49                    0.571    16320539   \n",
       "429432            61.49                    0.571    16320539   \n",
       "429433            61.49                    0.571    16320539   \n",
       "429434            61.49                    0.571    16320539   \n",
       "\n",
       "        excess_mortality_cumulative_absolute  excess_mortality_cumulative  \\\n",
       "429430                                   NaN                          NaN   \n",
       "429431                                   NaN                          NaN   \n",
       "429432                                   NaN                          NaN   \n",
       "429433                                   NaN                          NaN   \n",
       "429434                                   NaN                          NaN   \n",
       "\n",
       "        excess_mortality  excess_mortality_cumulative_per_million  \n",
       "429430               NaN                                      NaN  \n",
       "429431               NaN                                      NaN  \n",
       "429432               NaN                                      NaN  \n",
       "429433               NaN                                      NaN  \n",
       "429434               NaN                                      NaN  \n",
       "\n",
       "[5 rows x 67 columns]"
      ]
     },
     "execution_count": 132,
     "metadata": {},
     "output_type": "execute_result"
    }
   ],
   "source": [
    "dati_covid.tail()"
   ]
  },
  {
   "cell_type": "code",
   "execution_count": 133,
   "id": "32f405c3-31cd-4fa0-aaeb-d105208e9c0f",
   "metadata": {},
   "outputs": [
    {
     "name": "stdout",
     "output_type": "stream",
     "text": [
      "<class 'pandas.core.frame.DataFrame'>\n",
      "RangeIndex: 429435 entries, 0 to 429434\n",
      "Data columns (total 67 columns):\n",
      " #   Column                                      Non-Null Count   Dtype  \n",
      "---  ------                                      --------------   -----  \n",
      " 0   iso_code                                    429435 non-null  object \n",
      " 1   continent                                   402910 non-null  object \n",
      " 2   location                                    429435 non-null  object \n",
      " 3   date                                        429435 non-null  object \n",
      " 4   total_cases                                 411804 non-null  float64\n",
      " 5   new_cases                                   410159 non-null  float64\n",
      " 6   new_cases_smoothed                          408929 non-null  float64\n",
      " 7   total_deaths                                411804 non-null  float64\n",
      " 8   new_deaths                                  410608 non-null  float64\n",
      " 9   new_deaths_smoothed                         409378 non-null  float64\n",
      " 10  total_cases_per_million                     411804 non-null  float64\n",
      " 11  new_cases_per_million                       410159 non-null  float64\n",
      " 12  new_cases_smoothed_per_million              408929 non-null  float64\n",
      " 13  total_deaths_per_million                    411804 non-null  float64\n",
      " 14  new_deaths_per_million                      410608 non-null  float64\n",
      " 15  new_deaths_smoothed_per_million             409378 non-null  float64\n",
      " 16  reproduction_rate                           184817 non-null  float64\n",
      " 17  icu_patients                                39116 non-null   float64\n",
      " 18  icu_patients_per_million                    39116 non-null   float64\n",
      " 19  hosp_patients                               40656 non-null   float64\n",
      " 20  hosp_patients_per_million                   40656 non-null   float64\n",
      " 21  weekly_icu_admissions                       10993 non-null   float64\n",
      " 22  weekly_icu_admissions_per_million           10993 non-null   float64\n",
      " 23  weekly_hosp_admissions                      24497 non-null   float64\n",
      " 24  weekly_hosp_admissions_per_million          24497 non-null   float64\n",
      " 25  total_tests                                 79387 non-null   float64\n",
      " 26  new_tests                                   75403 non-null   float64\n",
      " 27  total_tests_per_thousand                    79387 non-null   float64\n",
      " 28  new_tests_per_thousand                      75403 non-null   float64\n",
      " 29  new_tests_smoothed                          103965 non-null  float64\n",
      " 30  new_tests_smoothed_per_thousand             103965 non-null  float64\n",
      " 31  positive_rate                               95927 non-null   float64\n",
      " 32  tests_per_case                              94348 non-null   float64\n",
      " 33  tests_units                                 106788 non-null  object \n",
      " 34  total_vaccinations                          85417 non-null   float64\n",
      " 35  people_vaccinated                           81132 non-null   float64\n",
      " 36  people_fully_vaccinated                     78061 non-null   float64\n",
      " 37  total_boosters                              53600 non-null   float64\n",
      " 38  new_vaccinations                            70971 non-null   float64\n",
      " 39  new_vaccinations_smoothed                   195029 non-null  float64\n",
      " 40  total_vaccinations_per_hundred              85417 non-null   float64\n",
      " 41  people_vaccinated_per_hundred               81132 non-null   float64\n",
      " 42  people_fully_vaccinated_per_hundred         78061 non-null   float64\n",
      " 43  total_boosters_per_hundred                  53600 non-null   float64\n",
      " 44  new_vaccinations_smoothed_per_million       195029 non-null  float64\n",
      " 45  new_people_vaccinated_smoothed              192177 non-null  float64\n",
      " 46  new_people_vaccinated_smoothed_per_hundred  192177 non-null  float64\n",
      " 47  stringency_index                            196190 non-null  float64\n",
      " 48  population_density                          360492 non-null  float64\n",
      " 49  median_age                                  334663 non-null  float64\n",
      " 50  aged_65_older                               323270 non-null  float64\n",
      " 51  aged_70_older                               331315 non-null  float64\n",
      " 52  gdp_per_capita                              328292 non-null  float64\n",
      " 53  extreme_poverty                             211996 non-null  float64\n",
      " 54  cardiovasc_death_rate                       328865 non-null  float64\n",
      " 55  diabetes_prevalence                         345911 non-null  float64\n",
      " 56  female_smokers                              247165 non-null  float64\n",
      " 57  male_smokers                                243817 non-null  float64\n",
      " 58  handwashing_facilities                      161741 non-null  float64\n",
      " 59  hospital_beds_per_thousand                  290689 non-null  float64\n",
      " 60  life_expectancy                             390299 non-null  float64\n",
      " 61  human_development_index                     319127 non-null  float64\n",
      " 62  population                                  429435 non-null  int64  \n",
      " 63  excess_mortality_cumulative_absolute        13411 non-null   float64\n",
      " 64  excess_mortality_cumulative                 13411 non-null   float64\n",
      " 65  excess_mortality                            13411 non-null   float64\n",
      " 66  excess_mortality_cumulative_per_million     13411 non-null   float64\n",
      "dtypes: float64(61), int64(1), object(5)\n",
      "memory usage: 219.5+ MB\n"
     ]
    }
   ],
   "source": [
    "dati_covid.info()"
   ]
  },
  {
   "cell_type": "code",
   "execution_count": 134,
   "id": "02722530-9080-4561-831c-055bcac630d9",
   "metadata": {},
   "outputs": [
    {
     "data": {
      "text/html": [
       "<div>\n",
       "<style scoped>\n",
       "    .dataframe tbody tr th:only-of-type {\n",
       "        vertical-align: middle;\n",
       "    }\n",
       "\n",
       "    .dataframe tbody tr th {\n",
       "        vertical-align: top;\n",
       "    }\n",
       "\n",
       "    .dataframe thead th {\n",
       "        text-align: right;\n",
       "    }\n",
       "</style>\n",
       "<table border=\"1\" class=\"dataframe\">\n",
       "  <thead>\n",
       "    <tr style=\"text-align: right;\">\n",
       "      <th></th>\n",
       "      <th>total_cases</th>\n",
       "      <th>new_cases</th>\n",
       "      <th>new_cases_smoothed</th>\n",
       "      <th>total_deaths</th>\n",
       "      <th>new_deaths</th>\n",
       "      <th>new_deaths_smoothed</th>\n",
       "      <th>total_cases_per_million</th>\n",
       "      <th>new_cases_per_million</th>\n",
       "      <th>new_cases_smoothed_per_million</th>\n",
       "      <th>total_deaths_per_million</th>\n",
       "      <th>...</th>\n",
       "      <th>male_smokers</th>\n",
       "      <th>handwashing_facilities</th>\n",
       "      <th>hospital_beds_per_thousand</th>\n",
       "      <th>life_expectancy</th>\n",
       "      <th>human_development_index</th>\n",
       "      <th>population</th>\n",
       "      <th>excess_mortality_cumulative_absolute</th>\n",
       "      <th>excess_mortality_cumulative</th>\n",
       "      <th>excess_mortality</th>\n",
       "      <th>excess_mortality_cumulative_per_million</th>\n",
       "    </tr>\n",
       "  </thead>\n",
       "  <tbody>\n",
       "    <tr>\n",
       "      <th>count</th>\n",
       "      <td>4.118040e+05</td>\n",
       "      <td>4.101590e+05</td>\n",
       "      <td>4.089290e+05</td>\n",
       "      <td>4.118040e+05</td>\n",
       "      <td>410608.000000</td>\n",
       "      <td>409378.000000</td>\n",
       "      <td>411804.000000</td>\n",
       "      <td>410159.000000</td>\n",
       "      <td>408929.000000</td>\n",
       "      <td>411804.000000</td>\n",
       "      <td>...</td>\n",
       "      <td>243817.000000</td>\n",
       "      <td>161741.000000</td>\n",
       "      <td>290689.000000</td>\n",
       "      <td>390299.000000</td>\n",
       "      <td>319127.000000</td>\n",
       "      <td>4.294350e+05</td>\n",
       "      <td>1.341100e+04</td>\n",
       "      <td>13411.000000</td>\n",
       "      <td>13411.000000</td>\n",
       "      <td>13411.000000</td>\n",
       "    </tr>\n",
       "    <tr>\n",
       "      <th>mean</th>\n",
       "      <td>7.365292e+06</td>\n",
       "      <td>8.017360e+03</td>\n",
       "      <td>8.041026e+03</td>\n",
       "      <td>8.125957e+04</td>\n",
       "      <td>71.852139</td>\n",
       "      <td>72.060873</td>\n",
       "      <td>112096.199396</td>\n",
       "      <td>122.357074</td>\n",
       "      <td>122.713844</td>\n",
       "      <td>835.514313</td>\n",
       "      <td>...</td>\n",
       "      <td>33.097723</td>\n",
       "      <td>50.649264</td>\n",
       "      <td>3.106912</td>\n",
       "      <td>73.702098</td>\n",
       "      <td>0.722139</td>\n",
       "      <td>1.520336e+08</td>\n",
       "      <td>5.604765e+04</td>\n",
       "      <td>9.766431</td>\n",
       "      <td>10.925353</td>\n",
       "      <td>1772.666400</td>\n",
       "    </tr>\n",
       "    <tr>\n",
       "      <th>std</th>\n",
       "      <td>4.477582e+07</td>\n",
       "      <td>2.296649e+05</td>\n",
       "      <td>8.661611e+04</td>\n",
       "      <td>4.411901e+05</td>\n",
       "      <td>1368.322990</td>\n",
       "      <td>513.636567</td>\n",
       "      <td>162240.412419</td>\n",
       "      <td>1508.778583</td>\n",
       "      <td>559.701638</td>\n",
       "      <td>1134.932671</td>\n",
       "      <td>...</td>\n",
       "      <td>13.853948</td>\n",
       "      <td>31.905375</td>\n",
       "      <td>2.549205</td>\n",
       "      <td>7.387914</td>\n",
       "      <td>0.148903</td>\n",
       "      <td>6.975408e+08</td>\n",
       "      <td>1.568691e+05</td>\n",
       "      <td>12.040658</td>\n",
       "      <td>24.560706</td>\n",
       "      <td>1991.892769</td>\n",
       "    </tr>\n",
       "    <tr>\n",
       "      <th>min</th>\n",
       "      <td>0.000000e+00</td>\n",
       "      <td>0.000000e+00</td>\n",
       "      <td>0.000000e+00</td>\n",
       "      <td>0.000000e+00</td>\n",
       "      <td>0.000000</td>\n",
       "      <td>0.000000</td>\n",
       "      <td>0.000000</td>\n",
       "      <td>0.000000</td>\n",
       "      <td>0.000000</td>\n",
       "      <td>0.000000</td>\n",
       "      <td>...</td>\n",
       "      <td>7.700000</td>\n",
       "      <td>1.188000</td>\n",
       "      <td>0.100000</td>\n",
       "      <td>53.280000</td>\n",
       "      <td>0.394000</td>\n",
       "      <td>4.700000e+01</td>\n",
       "      <td>-3.772610e+04</td>\n",
       "      <td>-44.230000</td>\n",
       "      <td>-95.920000</td>\n",
       "      <td>-2936.453100</td>\n",
       "    </tr>\n",
       "    <tr>\n",
       "      <th>25%</th>\n",
       "      <td>6.280750e+03</td>\n",
       "      <td>0.000000e+00</td>\n",
       "      <td>0.000000e+00</td>\n",
       "      <td>4.300000e+01</td>\n",
       "      <td>0.000000</td>\n",
       "      <td>0.000000</td>\n",
       "      <td>1916.100500</td>\n",
       "      <td>0.000000</td>\n",
       "      <td>0.000000</td>\n",
       "      <td>24.568000</td>\n",
       "      <td>...</td>\n",
       "      <td>22.600000</td>\n",
       "      <td>20.859000</td>\n",
       "      <td>1.300000</td>\n",
       "      <td>69.500000</td>\n",
       "      <td>0.602000</td>\n",
       "      <td>5.237980e+05</td>\n",
       "      <td>1.765000e+02</td>\n",
       "      <td>2.060000</td>\n",
       "      <td>-1.500000</td>\n",
       "      <td>116.872242</td>\n",
       "    </tr>\n",
       "    <tr>\n",
       "      <th>50%</th>\n",
       "      <td>6.365300e+04</td>\n",
       "      <td>0.000000e+00</td>\n",
       "      <td>1.200000e+01</td>\n",
       "      <td>7.990000e+02</td>\n",
       "      <td>0.000000</td>\n",
       "      <td>0.000000</td>\n",
       "      <td>29145.475000</td>\n",
       "      <td>0.000000</td>\n",
       "      <td>2.794000</td>\n",
       "      <td>295.089000</td>\n",
       "      <td>...</td>\n",
       "      <td>33.100000</td>\n",
       "      <td>49.542000</td>\n",
       "      <td>2.500000</td>\n",
       "      <td>75.050000</td>\n",
       "      <td>0.740000</td>\n",
       "      <td>6.336393e+06</td>\n",
       "      <td>6.815199e+03</td>\n",
       "      <td>8.130000</td>\n",
       "      <td>5.660000</td>\n",
       "      <td>1270.801400</td>\n",
       "    </tr>\n",
       "    <tr>\n",
       "      <th>75%</th>\n",
       "      <td>7.582720e+05</td>\n",
       "      <td>0.000000e+00</td>\n",
       "      <td>3.132860e+02</td>\n",
       "      <td>9.574000e+03</td>\n",
       "      <td>0.000000</td>\n",
       "      <td>3.143000</td>\n",
       "      <td>156770.190000</td>\n",
       "      <td>0.000000</td>\n",
       "      <td>56.253000</td>\n",
       "      <td>1283.817000</td>\n",
       "      <td>...</td>\n",
       "      <td>41.500000</td>\n",
       "      <td>82.502000</td>\n",
       "      <td>4.210000</td>\n",
       "      <td>79.460000</td>\n",
       "      <td>0.829000</td>\n",
       "      <td>3.296952e+07</td>\n",
       "      <td>3.912804e+04</td>\n",
       "      <td>15.160000</td>\n",
       "      <td>15.575000</td>\n",
       "      <td>2883.024150</td>\n",
       "    </tr>\n",
       "    <tr>\n",
       "      <th>max</th>\n",
       "      <td>7.758668e+08</td>\n",
       "      <td>4.423623e+07</td>\n",
       "      <td>6.319461e+06</td>\n",
       "      <td>7.057132e+06</td>\n",
       "      <td>103719.000000</td>\n",
       "      <td>14817.000000</td>\n",
       "      <td>763598.600000</td>\n",
       "      <td>241758.230000</td>\n",
       "      <td>34536.890000</td>\n",
       "      <td>6601.110000</td>\n",
       "      <td>...</td>\n",
       "      <td>78.100000</td>\n",
       "      <td>100.000000</td>\n",
       "      <td>13.800000</td>\n",
       "      <td>86.750000</td>\n",
       "      <td>0.957000</td>\n",
       "      <td>7.975105e+09</td>\n",
       "      <td>1.349776e+06</td>\n",
       "      <td>78.080000</td>\n",
       "      <td>378.220000</td>\n",
       "      <td>10293.515000</td>\n",
       "    </tr>\n",
       "  </tbody>\n",
       "</table>\n",
       "<p>8 rows × 62 columns</p>\n",
       "</div>"
      ],
      "text/plain": [
       "        total_cases     new_cases  new_cases_smoothed  total_deaths  \\\n",
       "count  4.118040e+05  4.101590e+05        4.089290e+05  4.118040e+05   \n",
       "mean   7.365292e+06  8.017360e+03        8.041026e+03  8.125957e+04   \n",
       "std    4.477582e+07  2.296649e+05        8.661611e+04  4.411901e+05   \n",
       "min    0.000000e+00  0.000000e+00        0.000000e+00  0.000000e+00   \n",
       "25%    6.280750e+03  0.000000e+00        0.000000e+00  4.300000e+01   \n",
       "50%    6.365300e+04  0.000000e+00        1.200000e+01  7.990000e+02   \n",
       "75%    7.582720e+05  0.000000e+00        3.132860e+02  9.574000e+03   \n",
       "max    7.758668e+08  4.423623e+07        6.319461e+06  7.057132e+06   \n",
       "\n",
       "          new_deaths  new_deaths_smoothed  total_cases_per_million  \\\n",
       "count  410608.000000        409378.000000            411804.000000   \n",
       "mean       71.852139            72.060873            112096.199396   \n",
       "std      1368.322990           513.636567            162240.412419   \n",
       "min         0.000000             0.000000                 0.000000   \n",
       "25%         0.000000             0.000000              1916.100500   \n",
       "50%         0.000000             0.000000             29145.475000   \n",
       "75%         0.000000             3.143000            156770.190000   \n",
       "max    103719.000000         14817.000000            763598.600000   \n",
       "\n",
       "       new_cases_per_million  new_cases_smoothed_per_million  \\\n",
       "count          410159.000000                   408929.000000   \n",
       "mean              122.357074                      122.713844   \n",
       "std              1508.778583                      559.701638   \n",
       "min                 0.000000                        0.000000   \n",
       "25%                 0.000000                        0.000000   \n",
       "50%                 0.000000                        2.794000   \n",
       "75%                 0.000000                       56.253000   \n",
       "max            241758.230000                    34536.890000   \n",
       "\n",
       "       total_deaths_per_million  ...   male_smokers  handwashing_facilities  \\\n",
       "count             411804.000000  ...  243817.000000           161741.000000   \n",
       "mean                 835.514313  ...      33.097723               50.649264   \n",
       "std                 1134.932671  ...      13.853948               31.905375   \n",
       "min                    0.000000  ...       7.700000                1.188000   \n",
       "25%                   24.568000  ...      22.600000               20.859000   \n",
       "50%                  295.089000  ...      33.100000               49.542000   \n",
       "75%                 1283.817000  ...      41.500000               82.502000   \n",
       "max                 6601.110000  ...      78.100000              100.000000   \n",
       "\n",
       "       hospital_beds_per_thousand  life_expectancy  human_development_index  \\\n",
       "count               290689.000000    390299.000000            319127.000000   \n",
       "mean                     3.106912        73.702098                 0.722139   \n",
       "std                      2.549205         7.387914                 0.148903   \n",
       "min                      0.100000        53.280000                 0.394000   \n",
       "25%                      1.300000        69.500000                 0.602000   \n",
       "50%                      2.500000        75.050000                 0.740000   \n",
       "75%                      4.210000        79.460000                 0.829000   \n",
       "max                     13.800000        86.750000                 0.957000   \n",
       "\n",
       "         population  excess_mortality_cumulative_absolute  \\\n",
       "count  4.294350e+05                          1.341100e+04   \n",
       "mean   1.520336e+08                          5.604765e+04   \n",
       "std    6.975408e+08                          1.568691e+05   \n",
       "min    4.700000e+01                         -3.772610e+04   \n",
       "25%    5.237980e+05                          1.765000e+02   \n",
       "50%    6.336393e+06                          6.815199e+03   \n",
       "75%    3.296952e+07                          3.912804e+04   \n",
       "max    7.975105e+09                          1.349776e+06   \n",
       "\n",
       "       excess_mortality_cumulative  excess_mortality  \\\n",
       "count                 13411.000000      13411.000000   \n",
       "mean                      9.766431         10.925353   \n",
       "std                      12.040658         24.560706   \n",
       "min                     -44.230000        -95.920000   \n",
       "25%                       2.060000         -1.500000   \n",
       "50%                       8.130000          5.660000   \n",
       "75%                      15.160000         15.575000   \n",
       "max                      78.080000        378.220000   \n",
       "\n",
       "       excess_mortality_cumulative_per_million  \n",
       "count                             13411.000000  \n",
       "mean                               1772.666400  \n",
       "std                                1991.892769  \n",
       "min                               -2936.453100  \n",
       "25%                                 116.872242  \n",
       "50%                                1270.801400  \n",
       "75%                                2883.024150  \n",
       "max                               10293.515000  \n",
       "\n",
       "[8 rows x 62 columns]"
      ]
     },
     "execution_count": 134,
     "metadata": {},
     "output_type": "execute_result"
    }
   ],
   "source": [
    "dati_covid.describe()"
   ]
  },
  {
   "cell_type": "code",
   "execution_count": null,
   "id": "b249ea2c-d7e3-477d-8f54-c34cc6981687",
   "metadata": {},
   "outputs": [],
   "source": []
  },
  {
   "cell_type": "code",
   "execution_count": 466,
   "id": "d231c02a-1bc4-442c-ac47-0b0c2241aba9",
   "metadata": {},
   "outputs": [],
   "source": [
    "# 2. Si chiede poi per ogni continente di trovare il numero di casi totali avvenuti in quello stesso \n",
    "#continente; si chiede di non considerare eventuali locazioni che nel dataset non appartengono ad alcun \n",
    "#continente."
   ]
  },
  {
   "cell_type": "code",
   "execution_count": 468,
   "id": "9e967888-2214-4fb2-8432-76e8329103f7",
   "metadata": {},
   "outputs": [
    {
     "data": {
      "text/plain": [
       "array(['Asia', nan, 'Europe', 'Africa', 'Oceania', 'North America',\n",
       "       'South America'], dtype=object)"
      ]
     },
     "execution_count": 468,
     "metadata": {},
     "output_type": "execute_result"
    }
   ],
   "source": [
    "dati_covid[\"continent\"].unique()"
   ]
  },
  {
   "cell_type": "code",
   "execution_count": 136,
   "id": "c3c77d41-7680-4cbd-8220-663313576cb5",
   "metadata": {},
   "outputs": [
    {
     "data": {
      "text/plain": [
       "26525"
      ]
     },
     "execution_count": 136,
     "metadata": {},
     "output_type": "execute_result"
    }
   ],
   "source": [
    "dati_covid[\"continent\"].isnull().sum()"
   ]
  },
  {
   "cell_type": "code",
   "execution_count": 137,
   "id": "f2bf1cd8-000f-4ba6-8781-ec0492da3a38",
   "metadata": {},
   "outputs": [],
   "source": [
    "dati_covid_no_nan = dati_covid.dropna(subset=\"continent\")"
   ]
  },
  {
   "cell_type": "code",
   "execution_count": 138,
   "id": "158fa33e-5329-471e-9a63-64f244616a8b",
   "metadata": {},
   "outputs": [
    {
     "data": {
      "text/plain": [
       "array(['Asia', 'Europe', 'Africa', 'Oceania', 'North America',\n",
       "       'South America'], dtype=object)"
      ]
     },
     "execution_count": 138,
     "metadata": {},
     "output_type": "execute_result"
    }
   ],
   "source": [
    "dati_covid_no_nan[\"continent\"].unique()"
   ]
  },
  {
   "cell_type": "code",
   "execution_count": 141,
   "id": "e6e2bc57-eb8f-4b96-a2a1-9a38ee9bee65",
   "metadata": {},
   "outputs": [
    {
     "data": {
      "text/plain": [
       "0"
      ]
     },
     "execution_count": 141,
     "metadata": {},
     "output_type": "execute_result"
    }
   ],
   "source": [
    "dati_covid_no_nan[\"continent\"].isnull().sum()"
   ]
  },
  {
   "cell_type": "code",
   "execution_count": 144,
   "id": "a92fae89-3486-4d23-8d03-abba2a1b1fbc",
   "metadata": {},
   "outputs": [],
   "source": [
    "dati_grouped = dati_covid_no_nan.groupby(\"continent\")"
   ]
  },
  {
   "cell_type": "code",
   "execution_count": 147,
   "id": "689dba03-aa40-42b8-a9b2-85f8b2e8129b",
   "metadata": {},
   "outputs": [
    {
     "data": {
      "text/plain": [
       "continent\n",
       "Africa           1.461689e+10\n",
       "Asia             2.521673e+11\n",
       "Europe           2.367567e+11\n",
       "North America    1.270737e+11\n",
       "Oceania          1.159805e+10\n",
       "South America    7.348457e+10\n",
       "Name: total_cases, dtype: float64"
      ]
     },
     "execution_count": 147,
     "metadata": {},
     "output_type": "execute_result"
    }
   ],
   "source": [
    "dati_grouped[\"total_cases\"].agg(\"sum\")"
   ]
  },
  {
   "cell_type": "code",
   "execution_count": null,
   "id": "713677c5-4a49-4f2e-8718-7482f6f6fc61",
   "metadata": {},
   "outputs": [],
   "source": []
  },
  {
   "cell_type": "code",
   "execution_count": 500,
   "id": "b455418e-1a96-487c-ad1d-49dd68647ead",
   "metadata": {},
   "outputs": [],
   "source": [
    "#3. Sempre riguardo i casi totali, si chiede di scrivere del codice che, date due variabili contenenti \n",
    "#i nomi di continenti, ne confronti i seguenti relativi descrittori statistici: valore massimo, media, e \n",
    "#percentuale rispetto al numero dei casi totali nel mondo (calcolati anche sulle locazioni senza indicazione \n",
    "#di continente."
   ]
  },
  {
   "cell_type": "code",
   "execution_count": 505,
   "id": "a29a0e3d-df8b-4d75-a070-02fba0bffd19",
   "metadata": {},
   "outputs": [],
   "source": [
    "dati_covid_Europe = dati_covid[dati_covid[\"continent\"]==\"Europe\"]"
   ]
  },
  {
   "cell_type": "code",
   "execution_count": 507,
   "id": "bd437a32-965b-4cb6-a834-7ec8273a4154",
   "metadata": {},
   "outputs": [],
   "source": [
    "dati_covid_NorthAmerica = dati_covid[dati_covid[\"continent\"]==\"North America\"]"
   ]
  },
  {
   "cell_type": "code",
   "execution_count": 191,
   "id": "73642fd7-ac92-470b-8d70-94a102d07b4e",
   "metadata": {},
   "outputs": [
    {
     "name": "stdout",
     "output_type": "stream",
     "text": [
      "3033056852746.0\n"
     ]
    }
   ],
   "source": [
    "totale_casi_nel_mondo = dati_covid[\"total_cases\"].sum()\n",
    "print(totale_casi_nel_mondo)"
   ]
  },
  {
   "cell_type": "code",
   "execution_count": 509,
   "id": "1d0ecfec-b967-489b-b838-9a6c01bca91c",
   "metadata": {},
   "outputs": [
    {
     "name": "stdout",
     "output_type": "stream",
     "text": [
      "la media dei casi totali è maggiore in Europa\n"
     ]
    }
   ],
   "source": [
    "if dati_covid_Europe[\"total_cases\"].mean() > dati_covid_NorthAmerica[\"total_cases\"].mean():\n",
    "    print(\"la media dei casi totali è maggiore in Europa\")\n",
    "elif dati_covid_Europe[\"total_cases\"].mean() == dati_covid_NorthAmerica[\"total_cases\"].mean():\n",
    "    print(\"la media dei casi totali in Europa è uguale alla media dei casi totali in Nord America\")\n",
    "else:\n",
    "    print(\"la media dei casi totali è minore in Europa\")"
   ]
  },
  {
   "cell_type": "code",
   "execution_count": 511,
   "id": "3c4718f5-3caa-42c5-a874-08f0e670b366",
   "metadata": {},
   "outputs": [
    {
     "name": "stdout",
     "output_type": "stream",
     "text": [
      "il massimo dei casi totali è minore in Europa\n"
     ]
    }
   ],
   "source": [
    "if dati_covid_Europe[\"total_cases\"].max() > dati_covid_NorthAmerica[\"total_cases\"].max():\n",
    "    print(\"il massimo dei casi totali è maggiore in Europa\")\n",
    "elif dati_covid_Europe[\"total_cases\"].max() == dati_covid_NorthAmerica[\"total_cases\"].max():\n",
    "    print(\"il massimo dei casi totali in Europa è uguale al massimo dei casi totali in Nord America\")\n",
    "else:\n",
    "    print(\"il massimo dei casi totali è minore in Europa\")"
   ]
  },
  {
   "cell_type": "code",
   "execution_count": 513,
   "id": "47edeafe-e796-42ad-9e9f-ecb2bce530d4",
   "metadata": {},
   "outputs": [
    {
     "name": "stdout",
     "output_type": "stream",
     "text": [
      "In Europa la percentuale dei casi totali rispetto al resto del mondo è maggiore\n"
     ]
    }
   ],
   "source": [
    "if dati_covid_Europe[\"total_cases\"].sum() / totale_casi_nel_mondo * 100 > dati_covid_NorthAmerica[\"total_cases\"].sum() / totale_casi_nel_mondo * 100:\n",
    "    print(\"In Europa la percentuale dei casi totali rispetto al resto del mondo è maggiore\")\n",
    "elif dati_covid_Europe[\"total_cases\"].sum() / totale_casi_nel_mondo * 100 == dati_covid_NorthAmerica[\"total_cases\"].sum() / totale_casi_nel_mondo * 100:\n",
    "    print(\"In Europa la percentuale dei casi totali rispetto al resto del mondo è uguale a quella in Nord America\")\n",
    "else:\n",
    "    print(\"In Europa la percentuale dei casi totali rispetto al resto del mondo è minore\")"
   ]
  },
  {
   "cell_type": "code",
   "execution_count": 199,
   "id": "76d8b16e-3d51-4809-a08f-4b06a8f18c3c",
   "metadata": {},
   "outputs": [
    {
     "data": {
      "text/plain": [
       "2773170.803183639"
      ]
     },
     "execution_count": 199,
     "metadata": {},
     "output_type": "execute_result"
    }
   ],
   "source": [
    "dati_covid_Europe[\"total_cases\"].mean()"
   ]
  },
  {
   "cell_type": "code",
   "execution_count": 201,
   "id": "28d64636-da97-4e32-8982-bf52cb5de90b",
   "metadata": {},
   "outputs": [
    {
     "data": {
      "text/plain": [
       "38997490.0"
      ]
     },
     "execution_count": 201,
     "metadata": {},
     "output_type": "execute_result"
    }
   ],
   "source": [
    "dati_covid_Europe[\"total_cases\"].max()"
   ]
  },
  {
   "cell_type": "code",
   "execution_count": 195,
   "id": "faa6693c-5a29-4c34-aaa9-8bd67f7f66ce",
   "metadata": {},
   "outputs": [
    {
     "data": {
      "text/plain": [
       "7.805876897317327"
      ]
     },
     "execution_count": 195,
     "metadata": {},
     "output_type": "execute_result"
    }
   ],
   "source": [
    "dati_covid_Europe[\"total_cases\"].sum() / totale_casi_nel_mondo * 100"
   ]
  },
  {
   "cell_type": "code",
   "execution_count": 203,
   "id": "0d6d4656-4572-4997-8ccf-bbbd5f8b2fe9",
   "metadata": {},
   "outputs": [
    {
     "data": {
      "text/plain": [
       "1851468.2261124223"
      ]
     },
     "execution_count": 203,
     "metadata": {},
     "output_type": "execute_result"
    }
   ],
   "source": [
    "dati_covid_NorthAmerica[\"total_cases\"].mean()"
   ]
  },
  {
   "cell_type": "code",
   "execution_count": 205,
   "id": "06bae34c-c4ef-46a2-8fa8-ddcd6682387b",
   "metadata": {},
   "outputs": [
    {
     "data": {
      "text/plain": [
       "103436829.0"
      ]
     },
     "execution_count": 205,
     "metadata": {},
     "output_type": "execute_result"
    }
   ],
   "source": [
    "dati_covid_NorthAmerica[\"total_cases\"].max()"
   ]
  },
  {
   "cell_type": "code",
   "execution_count": 197,
   "id": "7a86be11-ebc4-4a49-9a48-6aa55163f7a1",
   "metadata": {},
   "outputs": [
    {
     "data": {
      "text/plain": [
       "4.189623749253264"
      ]
     },
     "execution_count": 197,
     "metadata": {},
     "output_type": "execute_result"
    }
   ],
   "source": [
    "dati_covid_NorthAmerica[\"total_cases\"].sum() / totale_casi_nel_mondo * 100"
   ]
  },
  {
   "cell_type": "code",
   "execution_count": null,
   "id": "aad58d20-d44f-46b1-85e2-cf7a787aa732",
   "metadata": {},
   "outputs": [],
   "source": []
  },
  {
   "cell_type": "code",
   "execution_count": 320,
   "id": "36fc7e30-8048-48c7-826f-984511ab5385",
   "metadata": {},
   "outputs": [],
   "source": [
    "# 4. Selezionare i dati relativi all'Italia nel 2022, e mostrare con un grafico adeguato l'evoluzione del \n",
    "#casi totali rispetto alla data. Mostrare poi con un grafico adeguato il numero di nuovi casi rispetto alla \n",
    "#data (filtrare i dati se necessario). Mostrare infine un grafico che mostra l'andamento della somma cumulativa\n",
    "#nuovi casi del 2022, e commentare se ci sono similarità con l'andamento del numero dei casi totali."
   ]
  },
  {
   "cell_type": "code",
   "execution_count": 471,
   "id": "ab41dc02-1df8-4d52-a4f5-f417d63fca33",
   "metadata": {},
   "outputs": [],
   "source": [
    "dati_covid_Italia = dati_covid[dati_covid[\"location\"]==\"Italy\"]"
   ]
  },
  {
   "cell_type": "code",
   "execution_count": 326,
   "id": "058c9c29-5d5d-421f-b717-fa5fd1dea7ed",
   "metadata": {},
   "outputs": [],
   "source": [
    "dati_covid_Italia_2022 = dati_covid_Italia[(dati_covid_Italia[\"date\"] >= \"2022-01-01\") & (dati_covid_Italia[\"date\"] <= \"2022-12-31\")]"
   ]
  },
  {
   "cell_type": "code",
   "execution_count": 330,
   "id": "d360c373-633c-44e2-ac2c-4308f220bb6d",
   "metadata": {},
   "outputs": [
    {
     "data": {
      "text/html": [
       "<div>\n",
       "<style scoped>\n",
       "    .dataframe tbody tr th:only-of-type {\n",
       "        vertical-align: middle;\n",
       "    }\n",
       "\n",
       "    .dataframe tbody tr th {\n",
       "        vertical-align: top;\n",
       "    }\n",
       "\n",
       "    .dataframe thead th {\n",
       "        text-align: right;\n",
       "    }\n",
       "</style>\n",
       "<table border=\"1\" class=\"dataframe\">\n",
       "  <thead>\n",
       "    <tr style=\"text-align: right;\">\n",
       "      <th></th>\n",
       "      <th>iso_code</th>\n",
       "      <th>continent</th>\n",
       "      <th>location</th>\n",
       "      <th>date</th>\n",
       "      <th>total_cases</th>\n",
       "      <th>new_cases</th>\n",
       "      <th>new_cases_smoothed</th>\n",
       "      <th>total_deaths</th>\n",
       "      <th>new_deaths</th>\n",
       "      <th>new_deaths_smoothed</th>\n",
       "      <th>...</th>\n",
       "      <th>male_smokers</th>\n",
       "      <th>handwashing_facilities</th>\n",
       "      <th>hospital_beds_per_thousand</th>\n",
       "      <th>life_expectancy</th>\n",
       "      <th>human_development_index</th>\n",
       "      <th>population</th>\n",
       "      <th>excess_mortality_cumulative_absolute</th>\n",
       "      <th>excess_mortality_cumulative</th>\n",
       "      <th>excess_mortality</th>\n",
       "      <th>excess_mortality_cumulative_per_million</th>\n",
       "    </tr>\n",
       "  </thead>\n",
       "  <tbody>\n",
       "    <tr>\n",
       "      <th>186107</th>\n",
       "      <td>ITA</td>\n",
       "      <td>Europe</td>\n",
       "      <td>Italy</td>\n",
       "      <td>2022-04-16</td>\n",
       "      <td>15238128.0</td>\n",
       "      <td>0.0</td>\n",
       "      <td>63903.143</td>\n",
       "      <td>160658.0</td>\n",
       "      <td>0.0</td>\n",
       "      <td>141.714</td>\n",
       "      <td>...</td>\n",
       "      <td>27.8</td>\n",
       "      <td>NaN</td>\n",
       "      <td>3.18</td>\n",
       "      <td>83.51</td>\n",
       "      <td>0.892</td>\n",
       "      <td>59037472</td>\n",
       "      <td>NaN</td>\n",
       "      <td>NaN</td>\n",
       "      <td>NaN</td>\n",
       "      <td>NaN</td>\n",
       "    </tr>\n",
       "    <tr>\n",
       "      <th>186139</th>\n",
       "      <td>ITA</td>\n",
       "      <td>Europe</td>\n",
       "      <td>Italy</td>\n",
       "      <td>2022-05-18</td>\n",
       "      <td>17030147.0</td>\n",
       "      <td>0.0</td>\n",
       "      <td>37482.000</td>\n",
       "      <td>165182.0</td>\n",
       "      <td>0.0</td>\n",
       "      <td>109.286</td>\n",
       "      <td>...</td>\n",
       "      <td>27.8</td>\n",
       "      <td>NaN</td>\n",
       "      <td>3.18</td>\n",
       "      <td>83.51</td>\n",
       "      <td>0.892</td>\n",
       "      <td>59037472</td>\n",
       "      <td>NaN</td>\n",
       "      <td>NaN</td>\n",
       "      <td>NaN</td>\n",
       "      <td>NaN</td>\n",
       "    </tr>\n",
       "    <tr>\n",
       "      <th>186358</th>\n",
       "      <td>ITA</td>\n",
       "      <td>Europe</td>\n",
       "      <td>Italy</td>\n",
       "      <td>2022-12-23</td>\n",
       "      <td>24928076.0</td>\n",
       "      <td>0.0</td>\n",
       "      <td>24883.857</td>\n",
       "      <td>183370.0</td>\n",
       "      <td>0.0</td>\n",
       "      <td>107.286</td>\n",
       "      <td>...</td>\n",
       "      <td>27.8</td>\n",
       "      <td>NaN</td>\n",
       "      <td>3.18</td>\n",
       "      <td>83.51</td>\n",
       "      <td>0.892</td>\n",
       "      <td>59037472</td>\n",
       "      <td>NaN</td>\n",
       "      <td>NaN</td>\n",
       "      <td>NaN</td>\n",
       "      <td>NaN</td>\n",
       "    </tr>\n",
       "    <tr>\n",
       "      <th>186323</th>\n",
       "      <td>ITA</td>\n",
       "      <td>Europe</td>\n",
       "      <td>Italy</td>\n",
       "      <td>2022-11-18</td>\n",
       "      <td>23878193.0</td>\n",
       "      <td>0.0</td>\n",
       "      <td>25883.000</td>\n",
       "      <td>180139.0</td>\n",
       "      <td>0.0</td>\n",
       "      <td>69.143</td>\n",
       "      <td>...</td>\n",
       "      <td>27.8</td>\n",
       "      <td>NaN</td>\n",
       "      <td>3.18</td>\n",
       "      <td>83.51</td>\n",
       "      <td>0.892</td>\n",
       "      <td>59037472</td>\n",
       "      <td>NaN</td>\n",
       "      <td>NaN</td>\n",
       "      <td>NaN</td>\n",
       "      <td>NaN</td>\n",
       "    </tr>\n",
       "    <tr>\n",
       "      <th>186016</th>\n",
       "      <td>ITA</td>\n",
       "      <td>Europe</td>\n",
       "      <td>Italy</td>\n",
       "      <td>2022-01-15</td>\n",
       "      <td>7281297.0</td>\n",
       "      <td>0.0</td>\n",
       "      <td>144894.571</td>\n",
       "      <td>138881.0</td>\n",
       "      <td>0.0</td>\n",
       "      <td>195.429</td>\n",
       "      <td>...</td>\n",
       "      <td>27.8</td>\n",
       "      <td>NaN</td>\n",
       "      <td>3.18</td>\n",
       "      <td>83.51</td>\n",
       "      <td>0.892</td>\n",
       "      <td>59037472</td>\n",
       "      <td>NaN</td>\n",
       "      <td>NaN</td>\n",
       "      <td>NaN</td>\n",
       "      <td>NaN</td>\n",
       "    </tr>\n",
       "  </tbody>\n",
       "</table>\n",
       "<p>5 rows × 67 columns</p>\n",
       "</div>"
      ],
      "text/plain": [
       "       iso_code continent location        date  total_cases  new_cases  \\\n",
       "186107      ITA    Europe    Italy  2022-04-16   15238128.0        0.0   \n",
       "186139      ITA    Europe    Italy  2022-05-18   17030147.0        0.0   \n",
       "186358      ITA    Europe    Italy  2022-12-23   24928076.0        0.0   \n",
       "186323      ITA    Europe    Italy  2022-11-18   23878193.0        0.0   \n",
       "186016      ITA    Europe    Italy  2022-01-15    7281297.0        0.0   \n",
       "\n",
       "        new_cases_smoothed  total_deaths  new_deaths  new_deaths_smoothed  \\\n",
       "186107           63903.143      160658.0         0.0              141.714   \n",
       "186139           37482.000      165182.0         0.0              109.286   \n",
       "186358           24883.857      183370.0         0.0              107.286   \n",
       "186323           25883.000      180139.0         0.0               69.143   \n",
       "186016          144894.571      138881.0         0.0              195.429   \n",
       "\n",
       "        ...  male_smokers  handwashing_facilities  hospital_beds_per_thousand  \\\n",
       "186107  ...          27.8                     NaN                        3.18   \n",
       "186139  ...          27.8                     NaN                        3.18   \n",
       "186358  ...          27.8                     NaN                        3.18   \n",
       "186323  ...          27.8                     NaN                        3.18   \n",
       "186016  ...          27.8                     NaN                        3.18   \n",
       "\n",
       "        life_expectancy  human_development_index  population  \\\n",
       "186107            83.51                    0.892    59037472   \n",
       "186139            83.51                    0.892    59037472   \n",
       "186358            83.51                    0.892    59037472   \n",
       "186323            83.51                    0.892    59037472   \n",
       "186016            83.51                    0.892    59037472   \n",
       "\n",
       "        excess_mortality_cumulative_absolute  excess_mortality_cumulative  \\\n",
       "186107                                   NaN                          NaN   \n",
       "186139                                   NaN                          NaN   \n",
       "186358                                   NaN                          NaN   \n",
       "186323                                   NaN                          NaN   \n",
       "186016                                   NaN                          NaN   \n",
       "\n",
       "        excess_mortality  excess_mortality_cumulative_per_million  \n",
       "186107               NaN                                      NaN  \n",
       "186139               NaN                                      NaN  \n",
       "186358               NaN                                      NaN  \n",
       "186323               NaN                                      NaN  \n",
       "186016               NaN                                      NaN  \n",
       "\n",
       "[5 rows x 67 columns]"
      ]
     },
     "execution_count": 330,
     "metadata": {},
     "output_type": "execute_result"
    }
   ],
   "source": [
    "dati_covid_Italia_2022.sample(5)"
   ]
  },
  {
   "cell_type": "code",
   "execution_count": 297,
   "id": "2250355e-97f1-4ad6-8131-4bb8d08b1edc",
   "metadata": {},
   "outputs": [
    {
     "data": {
      "text/plain": [
       "<Axes: xlabel='date'>"
      ]
     },
     "execution_count": 297,
     "metadata": {},
     "output_type": "execute_result"
    },
    {
     "data": {
      "image/png": "[encoded data removed]",
      "text/plain": [
       "<Figure size 640x480 with 1 Axes>"
      ]
     },
     "metadata": {},
     "output_type": "display_data"
    }
   ],
   "source": [
    "dati_covid_Italia_2022.plot(x=\"date\" , y=\"total_cases\")"
   ]
  },
  {
   "cell_type": "code",
   "execution_count": 299,
   "id": "caf74918-0e07-4f71-86fa-bce4b696e17b",
   "metadata": {},
   "outputs": [
    {
     "data": {
      "text/plain": [
       "<Axes: xlabel='date'>"
      ]
     },
     "execution_count": 299,
     "metadata": {},
     "output_type": "execute_result"
    },
    {
     "data": {
      "image/png": "[encoded data removed]",
      "text/plain": [
       "<Figure size 640x480 with 1 Axes>"
      ]
     },
     "metadata": {},
     "output_type": "display_data"
    }
   ],
   "source": [
    "dati_covid_Italia_2022.plot(x=\"date\" , y=\"new_cases\")"
   ]
  },
  {
   "cell_type": "code",
   "execution_count": 489,
   "id": "33da55c2-8aa5-4076-a4b6-8f589101b3da",
   "metadata": {},
   "outputs": [],
   "source": [
    "dati_covid_Italia_2022[\"somma_cumulata\"] = dati_covid_Italia_2022.new_cases.cumsum()"
   ]
  },
  {
   "cell_type": "code",
   "execution_count": 491,
   "id": "c08180f8-59fa-41e3-847f-45770d6d9aeb",
   "metadata": {},
   "outputs": [
    {
     "data": {
      "text/plain": [
       "<Axes: xlabel='date'>"
      ]
     },
     "execution_count": 491,
     "metadata": {},
     "output_type": "execute_result"
    },
    {
     "data": {
      "image/png": "[encoded data removed]",
      "text/plain": [
       "<Figure size 640x480 with 1 Axes>"
      ]
     },
     "metadata": {},
     "output_type": "display_data"
    }
   ],
   "source": [
    "dati_covid_Italia_2022.plot(x=\"date\", y=\"somma_cumulata\")"
   ]
  },
  {
   "cell_type": "code",
   "execution_count": 498,
   "id": "a6b04e0d-788b-4a1e-b3bb-fc61ac1d2dfb",
   "metadata": {},
   "outputs": [],
   "source": [
    "#I due grafici presentano lo stesso andamento a testimonianza che descrivono entrambi lo stesso fenomeno pandemico. \n",
    "#Tuttavia il grafico dei casi totali, a differenza di quello della somma cumulativa, parte da un valore dell'ordinata \n",
    "#diverso da zero coerentemente con l'andamento progressivo della pandemia, esplosa ben prima del 2022."
   ]
  },
  {
   "cell_type": "code",
   "execution_count": null,
   "id": "269a30bb-25f1-4247-8a5d-e29744190041",
   "metadata": {},
   "outputs": [],
   "source": []
  },
  {
   "cell_type": "code",
   "execution_count": 375,
   "id": "c93d1d15-5514-454b-9442-34d225518036",
   "metadata": {},
   "outputs": [],
   "source": [
    "#5. Riguardo le nazioni di Italia, Germania e Francia, mostrare in un boxplot la differenza tra queste \n",
    "#nazioni riguardo il numero di pazienti in terapia intensiva (Intensive Care Unit, ICU) da maggio 2022 \n",
    "#(incluso) ad aprile 2023 (incluso), e scrivere un breve commento a riguardo.\n",
    "\n",
    "stati = [\"Italy\", \"Germany\", \"France\"]\n",
    "dati_covid_Ita_Ger_Fra = dati_covid[dati_covid[\"location\"].isin(stati)]"
   ]
  },
  {
   "cell_type": "code",
   "execution_count": 377,
   "id": "843007d1-5490-4864-a2d6-84984d2dd0ee",
   "metadata": {},
   "outputs": [],
   "source": [
    "dati_covid_Ita_Ger_Fra_22_23 = dati_covid_Ita_Ger_Fra[(dati_covid_Ita_Ger_Fra[\"date\"] >= \"2022-05-01\") & (dati_covid_Ita_Ger_Fra[\"date\"] <= \"2023-04-31\")]"
   ]
  },
  {
   "cell_type": "code",
   "execution_count": 391,
   "id": "c958deab-e8f5-43c0-9de0-8bada631459a",
   "metadata": {},
   "outputs": [],
   "source": [
    "import seaborn as sns"
   ]
  },
  {
   "cell_type": "code",
   "execution_count": 397,
   "id": "f8d4059d-03e4-4bc4-bcc1-099914593f81",
   "metadata": {},
   "outputs": [
    {
     "data": {
      "text/plain": [
       "<Axes: xlabel='location', ylabel='icu_patients'>"
      ]
     },
     "execution_count": 397,
     "metadata": {},
     "output_type": "execute_result"
    },
    {
     "data": {
      "image/png": "[encoded data removed]",
      "text/plain": [
       "<Figure size 640x480 with 1 Axes>"
      ]
     },
     "metadata": {},
     "output_type": "display_data"
    }
   ],
   "source": [
    "sns.boxplot(data=dati_covid_Ita_Ger_Fra_22_23, x=\"location\", y=\"icu_patients\")"
   ]
  },
  {
   "cell_type": "code",
   "execution_count": null,
   "id": "f77685cf-8825-4c40-9f4e-2c4298b8bcab",
   "metadata": {},
   "outputs": [],
   "source": [
    "#Dal grafico possiamo notare come, nel periodo di tempo considerato (maggio 2022 - aprile 2023), i pazienti in \n",
    "#terapia intensiva siano molto simili tra Francia e Germania mentre siano molto inferiori in Italia."
   ]
  },
  {
   "cell_type": "code",
   "execution_count": null,
   "id": "b8e4ba7c-3a5f-487c-ba5f-2c32f120b9ae",
   "metadata": {},
   "outputs": [],
   "source": []
  },
  {
   "cell_type": "code",
   "execution_count": 444,
   "id": "88a6103c-d940-4cbb-a613-11641a6ba193",
   "metadata": {},
   "outputs": [],
   "source": [
    "#6. Riguardo le nazioni di Italia, Germania, Francia e Spagna nel 2023, mostrare la somma dei pazienti ospitalizzati per \n",
    "#ognuna — se ci sono dati nulli, suggerire se può essere possibile gestirli tramite sostituzione o meno.\n",
    "stati_2 = [\"Italy\", \"Germany\", \"France\", \"Spain\"]\n",
    "dati_covid_Ita_Ger_Fra_Spa = dati_covid[dati_covid[\"location\"].isin(stati_2)]"
   ]
  },
  {
   "cell_type": "code",
   "execution_count": 446,
   "id": "89096518-a084-48db-8125-7e4eed877972",
   "metadata": {},
   "outputs": [],
   "source": [
    "dati_covid_Ita_Ger_Fra_Spa_23 = dati_covid_Ita_Ger_Fra_Spa[(dati_covid_Ita_Ger_Fra_Spa[\"date\"] >= \"2023-01-01\") & (dati_covid_Ita_Ger_Fra_Spa[\"date\"] <= \"2023-12-31\")]"
   ]
  },
  {
   "cell_type": "code",
   "execution_count": 448,
   "id": "41835a52-a6ed-4bb2-96bb-b548eed85878",
   "metadata": {},
   "outputs": [],
   "source": [
    "dati_grouped_2 = dati_covid_Ita_Ger_Fra_Spa_23.groupby(\"location\")"
   ]
  },
  {
   "cell_type": "code",
   "execution_count": 450,
   "id": "40175ddd-ed1a-400f-90b6-3ac1dfa1a950",
   "metadata": {},
   "outputs": [
    {
     "data": {
      "text/plain": [
       "location\n",
       "France     1382574.0\n",
       "Germany          0.0\n",
       "Italy      1175272.0\n",
       "Spain       354602.0\n",
       "Name: hosp_patients, dtype: float64"
      ]
     },
     "execution_count": 450,
     "metadata": {},
     "output_type": "execute_result"
    }
   ],
   "source": [
    "dati_grouped_2[\"hosp_patients\"].agg(\"sum\")"
   ]
  },
  {
   "cell_type": "code",
   "execution_count": 452,
   "id": "8b27c32f-f79e-400e-927f-ce15c363b2fa",
   "metadata": {},
   "outputs": [
    {
     "data": {
      "text/plain": [
       "<Axes: xlabel='location', ylabel='hosp_patients'>"
      ]
     },
     "execution_count": 452,
     "metadata": {},
     "output_type": "execute_result"
    },
    {
     "data": {
      "image/png": "[encoded data removed]",
      "text/plain": [
       "<Figure size 640x480 with 1 Axes>"
      ]
     },
     "metadata": {},
     "output_type": "display_data"
    }
   ],
   "source": [
    "sns.boxplot(data=dati_covid_Ita_Ger_Fra_Spa_23, x=\"location\", y=\"hosp_patients\")"
   ]
  },
  {
   "cell_type": "code",
   "execution_count": 460,
   "id": "6a571476-ad6c-4600-979b-ff461e274b43",
   "metadata": {},
   "outputs": [
    {
     "data": {
      "text/plain": [
       "843"
      ]
     },
     "execution_count": 460,
     "metadata": {},
     "output_type": "execute_result"
    }
   ],
   "source": [
    "dati_covid_Ita_Ger_Fra_Spa_23[\"hosp_patients\"].isnull().sum()"
   ]
  },
  {
   "cell_type": "code",
   "execution_count": null,
   "id": "2b7ac1c0-e98f-407b-9f48-98ee8ecf5e19",
   "metadata": {},
   "outputs": [],
   "source": [
    "#Come possiamo notare, nel dataframe considerato sono presenti dei valori nulli nella colonna dei pazienti ospedalizzati. \n",
    "#Dato l'obiettivo della nostra analisi, e dato il numero esiguo di valori nulli rispetto ai dati totali, si potrebbero \n",
    "#sostituire con la media della distribuzione per ogni nazione."
   ]
  }
 ],
 "metadata": {
  "kernelspec": {
   "display_name": "Python 3 (ipykernel)",
   "language": "python",
   "name": "python3"
  },
  "language_info": {
   "codemirror_mode": {
    "name": "ipython",
    "version": 3
   },
   "file_extension": ".py",
   "mimetype": "text/x-python",
   "name": "python",
   "nbconvert_exporter": "python",
   "pygments_lexer": "ipython3",
   "version": "3.12.4"
  }
 },
 "nbformat": 4,
 "nbformat_minor": 5
}
